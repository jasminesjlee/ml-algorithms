{
 "cells": [
  {
   "cell_type": "code",
   "execution_count": 1,
   "id": "1a111858",
   "metadata": {},
   "outputs": [],
   "source": [
    "import numpy as np"
   ]
  },
  {
   "cell_type": "code",
   "execution_count": 414,
   "id": "6b89e894",
   "metadata": {},
   "outputs": [],
   "source": [
    "class LogisticRegression:\n",
    "    def __init__(self, lr, sgd=False):\n",
    "        self.lr = lr\n",
    "        self.sgd = sgd\n",
    "        self.loss_vals = []\n",
    "        self.w = None\n",
    "\n",
    "    def loss(self, y, y_pred):\n",
    "        eps = 1e-5 # to avoid log(0) error\n",
    "        return (-1/y_pred.shape[0]) * np.sum((y * np.log(y_pred+eps) + (1-y) * np.log(1-y_pred+eps)))\n",
    "    \n",
    "    def grad(self, y, y_pred, X):\n",
    "        return (X.T @ (y_pred - y)) / X.shape[0]\n",
    "\n",
    "    def sigmoid(self, x):\n",
    "        return 1 / (1+np.exp(-x))\n",
    "\n",
    "    def fit(self, X, y, num_iters=10):\n",
    "        # X shape: (n, k)\n",
    "        # y shape: (n, 1)\n",
    "        # w shape: (k, 1)\n",
    "        (n, k) = X.shape\n",
    "        self.w = np.zeros((k+1, 1))\n",
    "        \n",
    "        for _ in range(num_iters):\n",
    "            if self.sgd:\n",
    "                self.sgd_fit(X, y)\n",
    "            else:\n",
    "                self.batchgd_fit(X, y)\n",
    "\n",
    "    def add_bias_to_feats(self, X):\n",
    "        (n, k) = X.shape\n",
    "        X = np.hstack((X, np.ones((n, 1))))\n",
    "        return X\n",
    "\n",
    "    def batchgd_fit(self, X, y):\n",
    "        X = self.add_bias_to_feats(X)\n",
    "        y_pred = self.sigmoid(X@self.w)\n",
    "        y = y.reshape((y.shape[0], 1))\n",
    "        grad = self.grad(y, y_pred, X)\n",
    "        self.w -= self.lr * grad\n",
    "        self.loss_vals.append(self.loss(y_pred, y))\n",
    "\n",
    "    def sgd_fit(self, X, y):\n",
    "        loss = 0\n",
    "        X = self.add_bias_to_feats(X)\n",
    "        for x, label in zip(X, y):\n",
    "            y_pred = self.sigmoid(x @ self.w)\n",
    "            label = np.array([label])\n",
    "            grad = self.grad(label, y_pred, x.reshape((1, x.shape[0])))\n",
    "            grad = grad.reshape((x.shape[0], 1))\n",
    "            self.w -= self.lr * grad\n",
    "            loss += self.loss(y_pred, label)\n",
    "        self.loss_vals.append(loss / X.shape[0])\n",
    "        \n",
    "    def predict(self, X, y):\n",
    "        num_samples = X.shape[0]\n",
    "        X = self.add_bias_to_feats(X)\n",
    "        y_pred = self.sigmoid(X @ self.w)\n",
    "        loss = self.loss(y, y_pred)\n",
    "        return loss / num_samples, np.round(y_pred)\n"
   ]
  },
  {
   "cell_type": "code",
   "execution_count": 415,
   "id": "b746f46a",
   "metadata": {},
   "outputs": [],
   "source": [
    "lr = LogisticRegression(0.001, sgd=True)"
   ]
  },
  {
   "cell_type": "code",
   "execution_count": 416,
   "id": "f2db38e0",
   "metadata": {},
   "outputs": [
    {
     "name": "stdout",
     "output_type": "stream",
     "text": [
      "(0.6931628523363192, array([[1.],\n",
      "       [1.],\n",
      "       [1.],\n",
      "       [0.],\n",
      "       [0.],\n",
      "       [0.]]))\n",
      "[[ 5.97453658e-03]\n",
      " [-7.11083104e-06]]\n"
     ]
    }
   ],
   "source": [
    "X = np.array([[4], [4], [4], [0], [0], [0]])\n",
    "y = np.array([1, 1, 1, 0, 0, 0])\n",
    "lr.fit(X, y, num_iters=1)\n",
    "print(lr.predict(X, y))\n",
    "print(lr.w)"
   ]
  },
  {
   "cell_type": "code",
   "execution_count": null,
   "id": "1bd82428",
   "metadata": {},
   "outputs": [],
   "source": []
  },
  {
   "cell_type": "code",
   "execution_count": null,
   "id": "b4a713f7",
   "metadata": {},
   "outputs": [],
   "source": []
  },
  {
   "cell_type": "code",
   "execution_count": 442,
   "id": "2061df53",
   "metadata": {},
   "outputs": [],
   "source": [
    "class LinearRegression:\n",
    "    def __init__(self, lr):\n",
    "        self.lr = lr\n",
    "        self.w = None # (k+1, 1), including bias term\n",
    "        \n",
    "    def add_bias_to_X(self, X):\n",
    "        (n, _) = X.shape\n",
    "        bias_term = np.ones((n, 1))\n",
    "        return np.hstack((X, bias_term))\n",
    "    \n",
    "    def initialize_w(self, k):\n",
    "        self.w = np.zeros((k, 1))\n",
    "        \n",
    "    def loss(self, y, y_pred):\n",
    "        # MSE\n",
    "        m = y.shape[0]\n",
    "#         print(y, y_pred, (1/m) * np.sum(np.square(y_pred - y)))\n",
    "        return (1/m) * np.sum(np.square(y_pred - y))\n",
    "    \n",
    "    def gradient(self, y, y_pred, X_with_bias):\n",
    "        '''\n",
    "        Input\n",
    "        - y: (n, 1)\n",
    "        - y_pred: (n, 1)\n",
    "        - X_with_bias: (n, k+1)\n",
    "        \n",
    "        Output:\n",
    "        - grad: (k+1, 1)\n",
    "        '''\n",
    "        m = y.shape[0]\n",
    "        return (2/m) * (X_with_bias.T @ (y_pred - y))\n",
    "        \n",
    "    def fit(self, X, y, num_iters=10):\n",
    "        # X: (n, k)\n",
    "        # y: (n, 1)\n",
    "        X_with_bias = self.add_bias_to_X(X)\n",
    "        self.initialize_w(X_with_bias.shape[1])\n",
    "        cost_list = []\n",
    "        for _ in range(num_iters):\n",
    "            y_pred = X_with_bias @ self.w\n",
    "            cost = self.loss(y, y_pred)\n",
    "            gradient = self.gradient(y, y_pred, X_with_bias)\n",
    "            self.w -= self.lr * gradient\n",
    "            cost_list.append(cost)\n",
    "        return cost_list\n",
    "    \n",
    "    def predict(self, X, y):\n",
    "        X_with_bias = self.add_bias_to_X(X)\n",
    "        y_pred = X_with_bias @ self.w\n",
    "        cost = self.loss(y, y_pred)\n",
    "        return cost, np.round(y_pred)\n",
    "            "
   ]
  },
  {
   "cell_type": "code",
   "execution_count": 444,
   "id": "2fa21e3b",
   "metadata": {},
   "outputs": [
    {
     "name": "stdout",
     "output_type": "stream",
     "text": [
      "(0.4385097186664136, array([[4.],\n",
      "       [4.],\n",
      "       [4.],\n",
      "       [0.],\n",
      "       [0.],\n",
      "       [0.]]))\n",
      "[[0.96613788]\n",
      " [0.22684466]]\n"
     ]
    }
   ],
   "source": [
    "lr = LinearRegression(0.001)\n",
    "X = np.array([[4], [4], [4], [0], [0], [0]])\n",
    "y = np.array([[5], [5], [5], [0], [0], [0]])\n",
    "lr.fit(X, y, num_iters=100)\n",
    "print(lr.predict(X, y))\n",
    "print(lr.w)"
   ]
  },
  {
   "cell_type": "code",
   "execution_count": 539,
   "id": "c3b47a05",
   "metadata": {},
   "outputs": [],
   "source": [
    "\n",
    "class KMeans:\n",
    "    def __init__(self, k):\n",
    "        self.k = k\n",
    "        self.centroids = None\n",
    "        self.centroids_to_point = [[] for _ in range(self.k)]\n",
    "        \n",
    "    def init_centroids(self, X):\n",
    "        self.centroids = X[np.random.choice(X.shape[0], size=self.k, replace=False)]\n",
    "        \n",
    "    def cluster(self, X):\n",
    "        self.init_centroids(X)\n",
    "        prev_centroids = None\n",
    "        i = 0\n",
    "        while prev_centroids is None or not (self.centroids == prev_centroids).all():\n",
    "            i += 1\n",
    "            centroid_sum = np.zeros((self.k, X[0].shape[0]))\n",
    "            centroid_total = [0 for _ in range(self.k)]\n",
    "            self.centroids_to_point = [[] for _ in range(self.k)]\n",
    "            prev_centroids = self.centroids\n",
    "            for p in X:\n",
    "                centroid_idx = np.argmin(np.array([np.linalg.norm(p - c) for c in self.centroids]))\n",
    "                centroid_sum[centroid_idx] += p\n",
    "                centroid_total[centroid_idx] += 1\n",
    "                self.centroids_to_point[centroid_idx].append(p.copy())\n",
    "            # re evaluate centroids\n",
    "            for i, (c_sum, c_count) in enumerate(zip(centroid_sum, centroid_total)):\n",
    "                self.centroids[i] = c_sum / c_count\n",
    "        return self.centroids\n",
    "        "
   ]
  },
  {
   "cell_type": "code",
   "execution_count": 540,
   "id": "c0a69d23",
   "metadata": {},
   "outputs": [
    {
     "name": "stdout",
     "output_type": "stream",
     "text": [
      "[[1 2]\n",
      " [0 0]\n",
      " [1 4]\n",
      " [1 3]\n",
      " [0 2]]\n"
     ]
    }
   ],
   "source": [
    "km = KMeans(5)\n",
    "X = np.array([[0, 0], [0, 1], [0, 2], [1, 2], [1, 3], [1, 4]])\n",
    "print(km.cluster(X))\n"
   ]
  },
  {
   "cell_type": "code",
   "execution_count": 583,
   "id": "956e9447",
   "metadata": {},
   "outputs": [],
   "source": [
    "class Perceptron:\n",
    "    def __init__(self, lr):\n",
    "        self.lr = lr\n",
    "        self.w = None\n",
    "        \n",
    "    def fit(self, X, y, num_iters=10):\n",
    "        # X: (n, k)\n",
    "        # y: (n, 1)\n",
    "        # w = (k+1, 1)\n",
    "        \n",
    "        (n, k) = X.shape\n",
    "        self.w = np.zeros((k+1, 1))\n",
    "        X_with_bias = np.hstack((X, np.ones((n, 1))))\n",
    "        for _ in range(num_iters):\n",
    "            incorrect = 0\n",
    "            for x_i, y_i in zip(X_with_bias, y):\n",
    "                y_pred = (x_i @ self.w)[0]\n",
    "                if y_i * y_pred <= 0:\n",
    "                    incorrect += 1\n",
    "                    self.w += self.lr * y_i * x_i.T.reshape(self.w.shape)\n",
    "    \n",
    "    def predict(self, X, y):\n",
    "        (n, k) = X.shape\n",
    "        X_with_bias = np.hstack((X, np.ones((n, 1))))\n",
    "        y_preds = X_with_bias @ self.w\n",
    "        out = []\n",
    "        for y_pred in y_preds:\n",
    "            if y_pred <= 0:\n",
    "                out.append(-1)\n",
    "            else:\n",
    "                out.append(1)\n",
    "        return out"
   ]
  },
  {
   "cell_type": "code",
   "execution_count": 584,
   "id": "51ad222f",
   "metadata": {},
   "outputs": [
    {
     "data": {
      "text/plain": [
       "[1, 1, 1, -1, -1, -1]"
      ]
     },
     "execution_count": 584,
     "metadata": {},
     "output_type": "execute_result"
    }
   ],
   "source": [
    "p = Perceptron(0.1)\n",
    "X = np.array([[4], [4], [4], [0], [0], [0]])\n",
    "y = np.array([[1], [1], [1], [-1], [-1], [-1]])\n",
    "p.fit(X, y, num_iters=10)\n",
    "p.predict(X, y)"
   ]
  },
  {
   "cell_type": "code",
   "execution_count": 638,
   "id": "b2fe4778",
   "metadata": {},
   "outputs": [],
   "source": [
    "class KNNClassifier:\n",
    "    def __init__(self, k):\n",
    "        self.k = k\n",
    "        self.train_X = None\n",
    "        self.train_y = None\n",
    "        \n",
    "    def fit(self, X, y):\n",
    "        self.train_X = X\n",
    "        self.train_y = y\n",
    "    \n",
    "    def euclid_dist(self, p1, p2):\n",
    "        return np.sum(np.sqrt(np.square(p1 - p2)))\n",
    "        \n",
    "    def predict(self, X):\n",
    "        preds = []\n",
    "        for r in X:\n",
    "            out = np.zeros(X.shape[0])\n",
    "            for i, train_r in enumerate(self.train_X):\n",
    "                out[i] = self.euclid_dist(train_r, r)\n",
    "            smallest_k_idx = np.argsort(out)[:self.k]\n",
    "            smallest_k_labels = self.train_y[smallest_k_idx]\n",
    "            print(smallest_k_labels)\n",
    "            print(np.bincount(smallest_k_labels))\n",
    "            preds.append(np.argmax(np.bincount(smallest_k_labels)))\n",
    "        return preds"
   ]
  },
  {
   "cell_type": "code",
   "execution_count": 642,
   "id": "c4311dd9",
   "metadata": {},
   "outputs": [
    {
     "name": "stdout",
     "output_type": "stream",
     "text": [
      "[1]\n",
      "[0 1]\n",
      "[1]\n",
      "[0 1]\n",
      "[1]\n",
      "[0 1]\n",
      "[0]\n",
      "[1]\n",
      "[0]\n",
      "[1]\n",
      "[0]\n",
      "[1]\n"
     ]
    },
    {
     "data": {
      "text/plain": [
       "[1, 1, 1, 0, 0, 0]"
      ]
     },
     "execution_count": 642,
     "metadata": {},
     "output_type": "execute_result"
    }
   ],
   "source": [
    "knn_class = KNNClassifier(1)\n",
    "X = np.array([[4], [4], [4], [0], [0], [0]])\n",
    "y = np.array([1, 1, 1, 0, 0, 0])\n",
    "knn_class.fit(X, y)\n",
    "\n",
    "X = np.array([[4], [3], [2], [1], [0], [-1]])\n",
    "y = np.array([[1], [1], [1], [-1], [-1], [-1]])\n",
    "knn_class.predict(X)"
   ]
  },
  {
   "cell_type": "code",
   "execution_count": 661,
   "id": "70a1b36e",
   "metadata": {},
   "outputs": [],
   "source": [
    "class KNNRegressor:\n",
    "    def __init__(self, k):\n",
    "        self.k = k\n",
    "        self.train_X = None\n",
    "        self.train_y = None\n",
    "        \n",
    "    def fit(self, X, y):\n",
    "        self.train_X = X\n",
    "        self.train_y = y\n",
    "    \n",
    "    def euclid_dist(self, p1, p2):\n",
    "        return np.sum(np.sqrt(np.square(p1 - p2)))\n",
    "        \n",
    "    def predict(self, X):\n",
    "        preds = []\n",
    "        for r in X:\n",
    "            out = np.zeros(X.shape[0])\n",
    "            for i, train_r in enumerate(self.train_X):\n",
    "                out[i] = self.euclid_dist(train_r, r)\n",
    "            smallest_k_idx = np.argsort(out)[:self.k]\n",
    "            smallest_k_labels = self.train_y[smallest_k_idx]\n",
    "            preds.append(np.mean(smallest_k_labels))\n",
    "        return preds"
   ]
  },
  {
   "cell_type": "code",
   "execution_count": 662,
   "id": "acab3fa9",
   "metadata": {},
   "outputs": [
    {
     "data": {
      "text/plain": [
       "[4.0, 3.0, 2.0, 3.0, 2.0, 1.0]"
      ]
     },
     "execution_count": 662,
     "metadata": {},
     "output_type": "execute_result"
    }
   ],
   "source": [
    "knn_class = KNNRegressor(1)\n",
    "X = np.array([[6], [5], [4], [3], [2], [1]])\n",
    "y = np.array([6, 5, 4, 3, 2, 1])\n",
    "knn_class.fit(X, y)\n",
    "\n",
    "X = np.array([[4], [3], [2], [3], [2], [1]])\n",
    "y = np.array([[1], [1], [1], [-1], [-1], [-1]])\n",
    "knn_class.predict(X)"
   ]
  },
  {
   "cell_type": "code",
   "execution_count": null,
   "id": "6ad2f1ad",
   "metadata": {},
   "outputs": [],
   "source": []
  }
 ],
 "metadata": {
  "kernelspec": {
   "display_name": "Python 3",
   "language": "python",
   "name": "python3"
  },
  "language_info": {
   "codemirror_mode": {
    "name": "ipython",
    "version": 3
   },
   "file_extension": ".py",
   "mimetype": "text/x-python",
   "name": "python",
   "nbconvert_exporter": "python",
   "pygments_lexer": "ipython3",
   "version": "3.8.5"
  }
 },
 "nbformat": 4,
 "nbformat_minor": 5
}
